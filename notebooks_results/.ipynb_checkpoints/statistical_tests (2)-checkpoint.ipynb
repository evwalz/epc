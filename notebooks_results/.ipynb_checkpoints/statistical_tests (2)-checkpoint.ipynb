{
 "cells": [
  {
   "cell_type": "markdown",
   "metadata": {},
   "source": [
    "# Statistical tests \n",
    "\n",
    "Tests are performed on the year 2019.\n",
    "\n",
    "\n",
    "1. Test for statistical significant difference in performance accuarcy between probabilistic climatology (EPC 0) and EPC window of size 2, 5, 10, 15, 20. Apply 2-sided Diebold Mariano test with spatial correction.\n",
    "\n",
    "\n",
    "2. Test for \"equal\" forecast accuarcy between EPC 20 and EPC 15. Apply 2 1-sided Diebold Mariano test with spatial correction and equivalence margin "
   ]
  },
  {
   "cell_type": "code",
   "execution_count": 5,
   "metadata": {},
   "outputs": [],
   "source": [
    "import numpy as np\n",
    "import xarray as xr\n",
    "import matplotlib.pyplot as plt\n",
    "from matplotlib import cm\n",
    "from matplotlib.colors import ListedColormap, LinearSegmentedColormap\n",
    "\n",
    "from cartopy import config\n",
    "import cartopy.crs as ccrs\n",
    "import pickle\n",
    "\n",
    "from scipy.stats import norm\n",
    "\n",
    "import matplotlib.patches as mpatches\n",
    "import pandas as pd"
   ]
  },
  {
   "cell_type": "code",
   "execution_count": 2,
   "metadata": {},
   "outputs": [],
   "source": [
    "# Read in data\n",
    "epc0_19 = xr.open_mfdataset('D:/crps19_epc/crps2019_0_*.nc4', concat_dim='time', combine='by_coords')\n",
    "epc2_19 = xr.open_mfdataset('D:/crps19_epc/crps2019_2_*.nc4', concat_dim='time', combine='by_coords')\n",
    "epc5_19 = xr.open_mfdataset('D:/crps19_epc/crps2019_5_*.nc4', concat_dim='time', combine='by_coords')\n",
    "epc10_19 = xr.open_mfdataset('D:/crps19_epc/crps2019_10_*.nc4', concat_dim='time', combine='by_coords')\n",
    "epc15_19 = xr.open_mfdataset('D:/crps19_epc/crps2019_15_*.nc4', concat_dim='time', combine='by_coords')\n",
    "epc20_19 = xr.open_mfdataset('D:/crps19_epc/crps2019_20_*.nc4', concat_dim='time', combine='by_coords')\n",
    "\n",
    "epc0_18 = xr.open_mfdataset('D:/crps18_epc/crps2018_0_*.nc4', concat_dim='time', combine='by_coords')\n",
    "epc2_18 = xr.open_mfdataset('D:/crps18_epc/crps2018_2_*.nc4', concat_dim='time', combine='by_coords')\n",
    "epc5_18 = xr.open_mfdataset('D:/crps18_epc/crps2018_5_*.nc4', concat_dim='time', combine='by_coords')\n",
    "epc10_18 = xr.open_mfdataset('D:/crps18_epc/crps2018_10_*.nc4', concat_dim='time', combine='by_coords')\n",
    "epc15_18 = xr.open_mfdataset('D:/crps18_epc/crps2018_15_*.nc4', concat_dim='time', combine='by_coords')\n",
    "epc20_18 = xr.open_mfdataset('D:/crps18_epc/crps2018_20_*.nc4', concat_dim='time', combine='by_coords')"
   ]
  },
  {
   "cell_type": "code",
   "execution_count": 19,
   "metadata": {},
   "outputs": [],
   "source": [
    "# define function to compute teststatsitic for diebold mariano test\n",
    "def teststatistic(epc1, epc2, days):\n",
    "    Smean_F = epc1.mean(dim=\"time\")\n",
    "    Smean_G = epc2.mean(dim=\"time\")\n",
    "    difference = np.subtract(Smean_F,Smean_G)\n",
    "    factor = np.sqrt(days)\n",
    "    variance = np.square(np.subtract(epc1,epc2)).mean(dim=\"time\")\n",
    "    sigma = np.sqrt(variance)\n",
    "    teststatistic = factor*np.divide(difference, sigma)\n",
    "    tt = teststatistic.precipitationCal.values\n",
    "    return(tt)\n",
    "\n",
    "def two_sided_DM(window, lon_dim =3600, lat_dim=800, alpha = 0.05):\n",
    "    print('2-sided DM test between EPC '+str(window)+ ' and EPC 0')\n",
    "    file_name = 'DMtest'+str(window)+'_0.npy'\n",
    "    grid_dim = lon_dim * lat_dim\n",
    "    test_file = np.load(file_name)\n",
    "    test = np.absolute(test_file)\n",
    "    pval = (1-norm.cdf(test))*2\n",
    "    comparison = np.sort(pval.flatten()) <= np.arange(1, (grid_dim+1))*alpha/(grid_dim)\n",
    "    if any(x == False for x in comparison):\n",
    "        sign_percent = np.min(np.where(comparison==False))/(grid_dim*0.01)  \n",
    "    else:\n",
    "        sign_percent = 100\n",
    "    print('Percent of significant grid points:', np.round(sign_percent,2))\n",
    "    \n",
    "    rejectval = np.where((np.sort(pval.flatten()) <= np.arange(1,(grid_dim+1))*alpha/(grid_dim))==False, 0, 1)\n",
    "    indxpval = np.argsort(pval.flatten())\n",
    "    \n",
    "    a = np.column_stack((rejectval,indxpval))\n",
    "    a = a[a[:,1].argsort()]\n",
    "    a2 = np.where(a[:,0] == 1)\n",
    "    testvalflt = test_file.flatten()\n",
    "    sup_percent = np.round(np.sum(testvalflt[a2] < 0)/(grid_dim*0.01),2)   \n",
    "    \n",
    "    print('Percent of significant grid points where EPC '+str(window)+ ' is viewed superior:', sup_percent)\n",
    "    print('')"
   ]
  },
  {
   "cell_type": "markdown",
   "metadata": {},
   "source": [
    "# Statistical test on 2018 and 2019"
   ]
  },
  {
   "cell_type": "code",
   "execution_count": 4,
   "metadata": {},
   "outputs": [],
   "source": [
    "# combine year 2018 and year 2019\n",
    "epc0 = xr.concat([epc0_19, epc0_18], dim='time')\n",
    "epc2 = xr.concat([epc2_19, epc2_18], dim='time')\n",
    "epc5 = xr.concat([epc5_19, epc5_18], dim='time')\n",
    "epc10 = xr.concat([epc10_19, epc10_18], dim='time')\n",
    "epc15 = xr.concat([epc15_19, epc15_18], dim='time')\n",
    "epc20 = xr.concat([epc20_19, epc20_18], dim='time')"
   ]
  },
  {
   "cell_type": "code",
   "execution_count": 5,
   "metadata": {},
   "outputs": [],
   "source": [
    "# DM test against window size 0:\n",
    "def DM_test_result (epc1,epc2, days, window):\n",
    "    test_result = teststatistic(epc1, epc2, days = days) \n",
    "    np.save('DMtest'+window+'.npy', test_result)"
   ]
  },
  {
   "cell_type": "code",
   "execution_count": 6,
   "metadata": {},
   "outputs": [],
   "source": [
    "days = 2 * 365\n",
    "DM_test_result(epc2, epc0, days, '2_0')\n",
    "DM_test_result(epc5, epc0, days, '5_0')\n",
    "DM_test_result(epc10, epc0, days, '10_0')\n",
    "DM_test_result(epc15, epc0, days, '15_0')\n",
    "DM_test_result(epc20, epc0, days, '20_0')\n",
    "\n",
    "DM_test_result(epc20, epc15, days, '20_15')"
   ]
  },
  {
   "cell_type": "code",
   "execution_count": 7,
   "metadata": {},
   "outputs": [],
   "source": [
    "variance = np.square(np.subtract(epc20,epc15)).mean(dim=\"time\")\n",
    "sigma = np.sqrt(variance).precipitationCal.values\n",
    "np.save('sigma20_15.npy',sigma)"
   ]
  },
  {
   "cell_type": "code",
   "execution_count": 20,
   "metadata": {},
   "outputs": [
    {
     "name": "stdout",
     "output_type": "stream",
     "text": [
      "2-sided DM test between EPC 20 and EPC 0\n",
      "Percent of significant grid points: 96.05\n",
      "Percent of significant grid points where EPC 20 is viewed superior: 96.05\n",
      "\n",
      "2-sided DM test between EPC 15 and EPC 0\n",
      "Percent of significant grid points: 96.28\n",
      "Percent of significant grid points where EPC 15 is viewed superior: 96.28\n",
      "\n",
      "2-sided DM test between EPC 10 and EPC 0\n",
      "Percent of significant grid points: 96.44\n",
      "Percent of significant grid points where EPC 10 is viewed superior: 96.44\n",
      "\n",
      "2-sided DM test between EPC 5 and EPC 0\n",
      "Percent of significant grid points: 96.54\n",
      "Percent of significant grid points where EPC 5 is viewed superior: 96.54\n",
      "\n",
      "2-sided DM test between EPC 2 and EPC 0\n",
      "Percent of significant grid points: 96.18\n",
      "Percent of significant grid points where EPC 2 is viewed superior: 96.18\n",
      "\n"
     ]
    }
   ],
   "source": [
    "# Run DM test\n",
    "two_sided_DM(20)\n",
    "two_sided_DM(15)\n",
    "two_sided_DM(10)\n",
    "two_sided_DM(5)\n",
    "two_sided_DM(2)"
   ]
  },
  {
   "cell_type": "code",
   "execution_count": 33,
   "metadata": {},
   "outputs": [],
   "source": [
    "sigma = np.load('sigma20_15.npy')\n",
    "testval = np.load('DMtest20_15.npy')\n",
    "thetas = np.arange(0.001, 0.051, 0.001)\n",
    "\n",
    "alpha = 0.05\n",
    "days = 2 * 365\n",
    "\n",
    "percent_test = []\n",
    "for theta in thetas:\n",
    "    thetacorrection = (theta*np.sqrt(days))/sigma\n",
    "    test_l = testval + thetacorrection\n",
    "    test_u = thetacorrection - testval\n",
    "    dimspace = testval.shape[0]*testval.shape[1]\n",
    "    ds = dimspace / 100\n",
    "    compare = np.arange(1, dimspace+1)\n",
    "\n",
    "    pval_l = 1-norm.cdf(test_l.flatten())\n",
    "    pval_u = 1-norm.cdf(test_u.flatten())\n",
    "    out_l = np.where(np.sort(pval_l) <= compare*alpha/dimspace, 1, 0)\n",
    "    out_u = np.where(np.sort(pval_u) <= compare*alpha/dimspace, 1, 0)\n",
    "    out_indx_l = np.min(np.where(out_l == 0))\n",
    "    out_indx_u = np.min(np.where(out_u == 0))\n",
    "    sign_l = np.repeat(np.array([1,0]), (out_indx_l, len(pval_l)-out_indx_l))\n",
    "    sign_u = np.repeat(np.array([1,0]), (out_indx_u, len(pval_u)-out_indx_u))\n",
    "    indx1 = np.argsort(pval_l) \n",
    "    indx2 = np.argsort(pval_u)\n",
    "    a = np.column_stack((sign_l,indx1))\n",
    "    a = a[a[:,1].argsort()]\n",
    "    a2 = np.where(a[:,0] == 1)\n",
    "    b = np.column_stack((sign_u,indx2)) \n",
    "    b = b[b[:,1].argsort()]\n",
    "    b2 = np.where(a[:,0] == 1)\n",
    "    percent_test.append(np.round(len(np.intersect1d(a2, b2))/ds,2))"
   ]
  },
  {
   "cell_type": "code",
   "execution_count": 34,
   "metadata": {},
   "outputs": [
    {
     "data": {
      "image/png": "[encoded data removed]",
      "text/plain": [
       "<Figure size 432x288 with 1 Axes>"
      ]
     },
     "metadata": {
      "needs_background": "light"
     },
     "output_type": "display_data"
    }
   ],
   "source": [
    "import matplotlib.pyplot as plt\n",
    "\n",
    "plt.plot(thetas, np.array(percent_test))\n",
    "plt.ylabel('Significant grid points [%]')\n",
    "\n",
    "plt.xlabel(\"\\u03b8\")\n",
    "plt.grid()\n",
    "plt.savefig(\"theta_2_1DMtest_20_15.pdf\")"
   ]
  }
 ],
 "metadata": {
  "kernelspec": {
   "display_name": "Python 3",
   "language": "python",
   "name": "python3"
  },
  "language_info": {
   "codemirror_mode": {
    "name": "ipython",
    "version": 3
   },
   "file_extension": ".py",
   "mimetype": "text/x-python",
   "name": "python",
   "nbconvert_exporter": "python",
   "pygments_lexer": "ipython3",
   "version": "3.8.3"
  }
 },
 "nbformat": 4,
 "nbformat_minor": 4
}
