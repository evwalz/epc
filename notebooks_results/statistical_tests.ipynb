{
 "cells": [
  {
   "cell_type": "markdown",
   "metadata": {},
   "source": [
    "# Statistical tests \n",
    "\n",
    "Tests are performed on the year 2019.\n",
    "\n",
    "\n",
    "1. Test for statistical significant difference in performance accuarcy between probabilistic climatology (EPC 0) and EPC window of size 2, 5, 10, 15, 20. Apply 2-sided Diebold Mariano test with spatial correction.\n",
    "\n",
    "\n",
    "2. Test for \"equal\" forecast accuarcy between EPC 20 and EPC 15. Apply 2 1-sided Diebold Mariano test with spatial correction and equivalence margin "
   ]
  },
  {
   "cell_type": "code",
   "execution_count": 6,
   "metadata": {},
   "outputs": [],
   "source": [
    "import numpy as np\n",
    "import xarray as xr\n",
    "import matplotlib.pyplot as plt\n",
    "from matplotlib import cm\n",
    "from matplotlib.colors import ListedColormap, LinearSegmentedColormap\n",
    "\n",
    "from cartopy import config\n",
    "import cartopy.crs as ccrs\n",
    "import pickle\n",
    "\n",
    "from scipy.stats import norm\n",
    "\n",
    "import matplotlib.patches as mpatches\n",
    "import pandas as pd"
   ]
  },
  {
   "cell_type": "code",
   "execution_count": null,
   "metadata": {},
   "outputs": [],
   "source": [
    "# Read in data\n",
    "epc0 = xr.open_mfdataset('D:/crps19_epc/crps19_0_*.nc4', concat_dim='time', combine='nested')\n",
    "epc2 = xr.open_mfdataset('D:/crps19_epc/crps19_2_*.nc4', concat_dim='time', combine='nested')\n",
    "epc5 = xr.open_mfdataset('D:/crps19_epc/crps19_5_*.nc4', concat_dim='time', combine='nested')\n",
    "epc10 = xr.open_mfdataset('D:/crps19_epc/crps19_10_*.nc4', concat_dim='time', combine='nested')\n",
    "epc15 = xr.open_mfdataset('D:/crps19_epc/crps19_15_*.nc4', concat_dim='time', combine='nested')\n",
    "epc20 = xr.open_mfdataset('D:/crps19_epc/crps19_20_*.nc4', concat_dim='time', combine='nested')"
   ]
  },
  {
   "cell_type": "code",
   "execution_count": null,
   "metadata": {},
   "outputs": [],
   "source": [
    "# Prepare data\n",
    "tttime = pd.date_range(start='01/01/2019', end='12/31/2019')\n",
    "epc0 = epc0.assign_coords(time = tttime)\n",
    "epc2 = epc2.assign_coords(time = tttime)\n",
    "epc5 = epc5.assign_coords(time = tttime)\n",
    "epc10 = epc10.assign_coords(time = tttime) \n",
    "epc15 = epc15.assign_coords(time = tttime) \n",
    "epc20 = epc20.assign_coords(time = tttime) "
   ]
  },
  {
   "cell_type": "code",
   "execution_count": null,
   "metadata": {},
   "outputs": [],
   "source": [
    "# define function to compute teststatsitic for diebold mariano test\n",
    "def teststatistic(epc1, epc2):\n",
    "    Smean_F = epc1.mean(dim=\"time\")\n",
    "    Smean_G = epc2.mean(dim=\"time\")\n",
    "    difference = np.subtract(Smean_F,Smean_G)\n",
    "    factor = np.sqrt(365)\n",
    "    variance = np.square(np.subtract(epc1,epc2)).mean(dim=\"time\")\n",
    "    sigma = np.sqrt(variance)\n",
    "    teststatistic = factor*np.divide(difference, sigma)\n",
    "    tt = teststatistic.precipitationCal.values\n",
    "    return(tt)"
   ]
  },
  {
   "cell_type": "code",
   "execution_count": null,
   "metadata": {},
   "outputs": [],
   "source": [
    "# compute teststatistic\n",
    "test15_0 = teststatistic(epc15, epc0)\n",
    "np.save('test15_0.npy', test15_0)\n",
    "test10_0 = teststatistic(epc10, epc0)\n",
    "np.save('test10_0.npy', test10_0)\n",
    "test20_0 = teststatistic(epc20, epc0)\n",
    "np.save('test20_0.npy', test20_0)\n",
    "test5_0 = teststatistic(epc5, epc0)\n",
    "np.save('test5_0.npy', test5_0)\n",
    "test2_0 = teststatistic(epc2, epc0)\n",
    "np.save('test2_0.npy', test2_0)\n",
    "test15_10 = teststatistic(epc15, epc10)\n",
    "np.save('test15_10.npy', test15_10)\n",
    "test20_15 = teststatistic(epc20, epc15)\n",
    "np.save('test20_15.npy', test20_15)\n",
    "test20_10 = teststatistic(epc20, epc10)\n",
    "np.save('test20_10.npy', test20_15)"
   ]
  },
  {
   "cell_type": "code",
   "execution_count": null,
   "metadata": {},
   "outputs": [],
   "source": [
    "variance = np.square(np.subtract(epc20,epc10)).mean(dim=\"time\")\n",
    "sigma = np.sqrt(variance).precipitationCal.values\n",
    "np.save('sigma20_10.npy',sigma)\n",
    "\n",
    "variance = np.square(np.subtract(epc20,epc15)).mean(dim=\"time\")\n",
    "sigma = np.sqrt(variance).precipitationCal.values\n",
    "np.save('sigma20_15.npy',sigma)\n",
    "\n",
    "variance = np.square(np.subtract(epc15,epc10)).mean(dim=\"time\")\n",
    "sigma = np.sqrt(variance).precipitationCal.values\n",
    "np.save('sigma15_10.npy',sigma)"
   ]
  },
  {
   "cell_type": "code",
   "execution_count": 22,
   "metadata": {},
   "outputs": [
    {
     "name": "stdout",
     "output_type": "stream",
     "text": [
      "EPC 0 and EPC 2: significantly different at 81.98 % of locations. EPC 2 viewed superior at 81.98 % of locations\n",
      "EPC 0 and EPC 5: significantly different at 83.98 % of locations. EPC 5 viewed superior at 83.98 % of locations\n",
      "EPC 0 and EPC 10: significantly different at 84.37 % of locations. EPC 10 viewed superior at 84.37 % of locations\n",
      "EPC 0 and EPC 15: significantly different at 83.93 % of locations. EPC 15 viewed superior at 83.93 % of locations\n",
      "EPC 0 and EPC 20: significantly different at 83.37 % of locations. EPC 20 viewed superior at 83.37 % of locations\n"
     ]
    }
   ],
   "source": [
    "# 1. Run 2-sided diebold marinao test\n",
    "teststatistics_list = ['2','5','10','15','20']\n",
    "alpha = 0.05\n",
    "for teststat in teststatistics_list:\n",
    "    teststatname = 'C:/Users/walz/Documents/Work/Promotion/EPC/Scripts/Python/test'+teststat+'_0.npy'\n",
    "    testval = np.load(teststatname)\n",
    "    dimspace = testval.shape[0]*testval.shape[1]\n",
    "    ds = dimspace/100\n",
    "    pval = (1-norm.cdf(np.absolute(testval)))*2\n",
    "    sign_percent = np.min(np.where((np.sort(pval.flatten()) <= np.arange(1,(dimspace+1))*alpha/(dimspace))==False))/(ds)   \n",
    "    \n",
    "    rejectval = np.where((np.sort(pval.flatten()) <= np.arange(1,(dimspace+1))*alpha/(dimspace))==False, 0, 1)\n",
    "    indxpval = np.argsort(pval.flatten())\n",
    "    \n",
    "    a = np.column_stack((rejectval,indxpval))\n",
    "    a = a[a[:,1].argsort()]\n",
    "    a2 = np.where(a[:,0] == 1)\n",
    "    testvalflt = testval.flatten()\n",
    "    sup_percent = np.round(np.sum(testvalflt[a2] < 0)/ds,2)\n",
    "    \n",
    "    info = 'EPC 0 and EPC ' + teststat + ': significantly different at'\n",
    "    infos = teststat + ' viewed superior at'\n",
    "    print(info, np.round(sign_percent,2), '% of locations. EPC', infos, sup_percent, '% of locations')"
   ]
  },
  {
   "cell_type": "code",
   "execution_count": 73,
   "metadata": {},
   "outputs": [
    {
     "name": "stdout",
     "output_type": "stream",
     "text": [
      "20_15: equivalence at  99.78 % of locations\n",
      "20_10: equivalence at  93.45 % of locations\n",
      "15_10: equivalence at  97.37 % of locations\n"
     ]
    }
   ],
   "source": [
    "#2. Run two 1-sided diebold mariano test\n",
    "theta = 0.05\n",
    "alpha = 0.05\n",
    "days = 365\n",
    "for teststat in ['20_15', '20_10', '15_10']:\n",
    "    sigma = np.load('C:/Users/walz/Documents/Work/Promotion/EPC/Scripts/Python/sigma'+teststat+'.npy')\n",
    "    testval = np.load('C:/Users/walz/Documents/Work/Promotion/EPC/Scripts/Python/test'+teststat+'.npy')\n",
    "    thetacorrection = (theta*np.sqrt(days))/sigma\n",
    "    test_l = testval + thetacorrection\n",
    "    test_u = thetacorrection - testval\n",
    "    dimspace = testval.shape[0]*testval.shape[1]\n",
    "    ds = dimspace / 100\n",
    "    compare = np.arange(1, dimspace+1)\n",
    "\n",
    "    pval_l = 1-norm.cdf(test_l.flatten())\n",
    "    pval_u = 1-norm.cdf(test_u.flatten())\n",
    "    out_l = np.where(np.sort(pval_l) <= compare*alpha/dimspace, 1, 0)\n",
    "    out_u = np.where(np.sort(pval_u) <= compare*alpha/dimspace, 1, 0)\n",
    "    indx1 = np.argsort(pval_l) \n",
    "    indx2 = np.argsort(pval_u)\n",
    "    a = np.column_stack((out_l,indx1))\n",
    "    a = a[a[:,1].argsort()]\n",
    "    a2 = np.where(a[:,0] == 1)\n",
    "    b = np.column_stack((out_u,indx2)) \n",
    "    b = b[b[:,1].argsort()]\n",
    "    b2 = np.where(a[:,0] == 1)\n",
    "    percent_test = np.round(len(np.unique(np.concatenate([a2,b2], axis=1)))/ds,2)\n",
    "    print(teststat + ': equivalence at ' , percent_test ,'% of locations')"
   ]
  }
 ],
 "metadata": {
  "kernelspec": {
   "display_name": "Python 3",
   "language": "python",
   "name": "python3"
  },
  "language_info": {
   "codemirror_mode": {
    "name": "ipython",
    "version": 3
   },
   "file_extension": ".py",
   "mimetype": "text/x-python",
   "name": "python",
   "nbconvert_exporter": "python",
   "pygments_lexer": "ipython3",
   "version": "3.7.6"
  }
 },
 "nbformat": 4,
 "nbformat_minor": 4
}
